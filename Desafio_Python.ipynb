{
  "cells": [
    {
      "cell_type": "markdown",
      "metadata": {
        "id": "view-in-github",
        "colab_type": "text"
      },
      "source": [
        "<a href=\"https://colab.research.google.com/github/feer-rodriguess90/feer-rodriguess90/blob/main/Desafio_Python.ipynb\" target=\"_parent\"><img src=\"https://colab.research.google.com/assets/colab-badge.svg\" alt=\"Open In Colab\"/></a>"
      ]
    },
    {
      "cell_type": "markdown",
      "metadata": {
        "id": "Z55f1u4p4oHu"
      },
      "source": [
        "### Bem vindas ao desafio de Python do Bootcamp Data Analytics da WoMakersCode!\n",
        "Neste notebook, voce deve escrever o codigo python em resposta à cada uma das perguntas. Esteja atenta ao enunciado do problema!\n"
      ]
    },
    {
      "cell_type": "markdown",
      "metadata": {
        "id": "oFGdIzuu5W7b"
      },
      "source": [
        "### Desafio 1\n",
        "Escreva uma função em python que lê dois números inteiros (a,b) e gere como resultado as seguintes operações:adição, subtração, multiplicação e divisão. Execute a funçao na celula abaixo, deixando visivel exemplos de resultados.\n"
      ]
    },
    {
      "cell_type": "code",
      "execution_count": null,
      "metadata": {
        "colab": {
          "base_uri": "https://localhost:8080/"
        },
        "id": "LzCl-VH14t4a",
        "outputId": "467f06ed-8678-4f6f-bfac-6a2a9b7a92f9"
      },
      "outputs": [
        {
          "name": "stdout",
          "output_type": "stream",
          "text": [
            "Digite o primeiro número: 9\n",
            "Digite o segundo número: 3\n"
          ]
        }
      ],
      "source": [
        "#Lê dois números inteiros (a, b)\n",
        "#Operações: adição, subtração, multiplicação e divisão\n",
        "\n",
        "A = (int(input(\"Digite o primeiro número: \")))\n",
        "B = (int(input(\"Digite o segundo número: \")))\n",
        "\n",
        "#Definir função\n",
        "\n",
        "def adicao(A, B):\n",
        "  return (A + B)\n",
        "W = adicao(A, B)\n",
        "\n",
        "def subtracao(A, B):\n",
        "  return (A - B)\n",
        "X = subtracao(A, B)\n",
        "\n",
        "def multiplicacao(A, B):\n",
        "  return (A * B)\n",
        "Y = multiplicacao(A, B)\n",
        "\n",
        "def divisao(A, B):\n",
        "  return (A / B)\n",
        "Z = divisao(A, B)"
      ]
    },
    {
      "cell_type": "code",
      "execution_count": null,
      "metadata": {
        "colab": {
          "base_uri": "https://localhost:8080/"
        },
        "id": "kMNcvrYZ4krA",
        "outputId": "dbe76d72-7eae-41da-8a2f-d48a0e7e7c33"
      },
      "outputs": [
        {
          "name": "stdout",
          "output_type": "stream",
          "text": [
            "Soma: 9 + 3 = 12\n",
            "Subtração: 9 - 3 = 6\n",
            "Multiplicação: 9 * 3 = 27\n",
            "Divisão: 9 / 3 = 3.0\n"
          ]
        }
      ],
      "source": [
        "#Rodar funcao\n",
        "\n",
        "print(\"Soma: %i + %i =\" %(A, B), W)\n",
        "print(\"Subtração: %i - %i =\" %(A, B), X)\n",
        "print(\"Multiplicação: %i * %i =\" %(A, B), Y)\n",
        "print(\"Divisão: %i / %i =\" %(A, B), Z)"
      ]
    },
    {
      "cell_type": "markdown",
      "metadata": {
        "id": "m_tFtRo5581u"
      },
      "source": [
        "### Desafio 2\n",
        "Escreva uma função em python que leia como input uma idade e retorne a classificaçao da ideade do individuo da seguinte forma em:\n",
        "\n",
        "*  Criança – 0 a 12 anos\n",
        "*  Adolescente – 13 a 17 anos\n",
        "*  Adulto – acima de 18 anos\n",
        "\n",
        "\n",
        "Se a idade for um número negativo, mostrar a mensagem que a \"idade inválida\"\n",
        "\n"
      ]
    },
    {
      "cell_type": "code",
      "execution_count": null,
      "metadata": {
        "colab": {
          "base_uri": "https://localhost:8080/"
        },
        "id": "cL-OpHGv6hyc",
        "outputId": "3afeafc2-c8e1-4f1d-a087-5e40410ada01"
      },
      "outputs": [
        {
          "name": "stdout",
          "output_type": "stream",
          "text": [
            "Qual sua idade? 18\n"
          ]
        }
      ],
      "source": [
        "#ESCREVER A FUNCAO ABAIXO\n",
        "\n",
        "idade = (int(input(\"Qual sua idade? \")))\n",
        "\n",
        "def classifica_idade(idade):\n",
        "  if idade >=0 and idade <=12:\n",
        "    print(\"Criança\")\n",
        "  elif idade >12 and idade <=17:\n",
        "    print(\"Adolescente\")\n",
        "  elif idade >17:\n",
        "    print(\"Adulto\")\n",
        "  else:\n",
        "    print(\"Idade inválida\")"
      ]
    },
    {
      "cell_type": "code",
      "execution_count": null,
      "metadata": {
        "colab": {
          "base_uri": "https://localhost:8080/"
        },
        "id": "49IE2lI66zNO",
        "outputId": "86e51ef6-e835-43c5-a5eb-50bf9007009c"
      },
      "outputs": [
        {
          "name": "stdout",
          "output_type": "stream",
          "text": [
            "Adulto\n"
          ]
        }
      ],
      "source": [
        "#RODAR A FUNCAO\n",
        "\n",
        "Z = classifica_idade(idade)"
      ]
    },
    {
      "cell_type": "markdown",
      "metadata": {
        "id": "wIGGNN_v60s4"
      },
      "source": [
        "### Desafio 3\n",
        "Crie uma função em python que receba como input um determinado horário em horas e retorne a conversao deste horário para segundos\n"
      ]
    },
    {
      "cell_type": "code",
      "execution_count": null,
      "metadata": {
        "colab": {
          "base_uri": "https://localhost:8080/"
        },
        "id": "JOF_tcax7ABd",
        "outputId": "eacf6e47-7c06-4d38-ec17-3b4ab3775026"
      },
      "outputs": [
        {
          "name": "stdout",
          "output_type": "stream",
          "text": [
            "Digite o valor em horas: 3\n"
          ]
        }
      ],
      "source": [
        "#ESCREVER A FUNCAO ABAIXO\n",
        "\n",
        "#RECEBA O VALOR EM HORAS\n",
        "\n",
        "t = (int(input(\"Digite o valor em horas: \")))\n",
        "\n",
        "#DEFINA A FUNCAO\n",
        "\n",
        "def time_converter(t):\n",
        "    return t * 3600\n",
        "x = time_converter(t)\n",
        "\n",
        ""
      ]
    },
    {
      "cell_type": "code",
      "execution_count": null,
      "metadata": {
        "colab": {
          "base_uri": "https://localhost:8080/"
        },
        "id": "AJf1IqiC7Mq_",
        "outputId": "267eae81-8d48-47b6-a727-07cdc97635d9"
      },
      "outputs": [
        {
          "name": "stdout",
          "output_type": "stream",
          "text": [
            "3 horas equivale a 10800 segundos\n"
          ]
        }
      ],
      "source": [
        "#RODAR A FUNCAO\n",
        "\n",
        "print(t, \"horas equivale a\", x, \"segundos\")"
      ]
    },
    {
      "cell_type": "markdown",
      "metadata": {
        "id": "RCrTUh1E7OWn"
      },
      "source": [
        "### Desafio 4\n",
        "Crie uma função em python que calcule a média artimética de uma aluna que cursou a disciplina de Programação I. A funcao deve receber como input as notas M1, M2 e M3 e calcular a média. Após a média calculada, a funcao deve anunciar se a aluna foi aprovado, reprovado ou pegou exame de acordo conm a seguinte classificacao:\n",
        "\n",
        "* Se a média estiver entre 0.0 e 4.0, o aluno está reprovado\n",
        "* Se a média estiver entre 4.1 e 6.0, o aluno pegou exame\n",
        "* Se a média for maior do que 6.0, o aluno está aprovado\n",
        "* Se o aluno pegou exame, deve ser lida a nota do exame. Se a nota do exame for maior do que 6.0, está aprovado, senão; está reprovado\n"
      ]
    },
    {
      "cell_type": "code",
      "execution_count": null,
      "metadata": {
        "colab": {
          "base_uri": "https://localhost:8080/"
        },
        "id": "VzNdyWZE70oc",
        "outputId": "21a334bc-e9a9-4ef5-afdf-4f3ad40a9174"
      },
      "outputs": [
        {
          "name": "stdout",
          "output_type": "stream",
          "text": [
            "Digite a nota M1: 6\n",
            "Digite a nota M2: 7\n",
            "Digite a nota M3: 8.5\n"
          ]
        }
      ],
      "source": [
        "##### ESCREVER A FUNCAO ABAIXO\n",
        "\n",
        "#ENTRE COM AS NOTAS\n",
        "\n",
        "M1 = float(input(\"Digite a nota M1: \"))\n",
        "M2 = float(input(\"Digite a nota M2: \"))\n",
        "M3 = float(input(\"Digite a nota M3: \"))\n",
        "\n",
        "#DEFINIR FUNCAO\n",
        "\n",
        "def calcula_media(M1,M2,M3):\n",
        "  return (M1 + M2 + M3) / 3\n",
        "media = calcula_media(M1, M2, M3)\n",
        "\n",
        "\n",
        "\n"
      ]
    },
    {
      "cell_type": "code",
      "execution_count": null,
      "metadata": {
        "colab": {
          "base_uri": "https://localhost:8080/"
        },
        "id": "cY7vMECS77QY",
        "outputId": "949968a3-5ec1-402a-9e6e-fe7a723ba459"
      },
      "outputs": [
        {
          "output_type": "stream",
          "name": "stdout",
          "text": [
            "\n",
            "\n",
            "Sua média é 7.2. Parabéns você está Aprovado\n"
          ]
        }
      ],
      "source": [
        "\n",
        "#RODAR A FUNCAO\n",
        "\n",
        "print(\"\\n\")\n",
        "if media >= 0.0 and media <= 4.0:\n",
        "  print(\"Sua média é %.1f você está reprovado\" %(media))\n",
        "elif media >4.0 and media <= 6.0:\n",
        "     print(\"Sua média é %.1f Pegou exame\" %(media))\n",
        "     exame = float(input(\"Nota do exame: \"))\n",
        "     if exame > 6.0:\n",
        "        print(\"Aprovado\")\n",
        "     else:\n",
        "        print(\"Reprovado\")\n",
        "elif media > 6.0:\n",
        "  print(\"Sua média é %.1f. Parabéns você está Aprovado\" %(media))\n"
      ]
    },
    {
      "cell_type": "markdown",
      "metadata": {
        "id": "eI9AkpYT788b"
      },
      "source": [
        "### Desafio 5\n",
        "Dado a seguinte lista:\n",
        "* equipes_bootcamp_dados = [BerthaLutz, GraceHopper, JaquelineGoes, SarahGilbert]\n",
        "\n",
        "1. Crie uma função em python que conte quantas vezes aparece a letra a em cada elemento da lista. Seu resultado deve ser uma lista . exemplo: [4,0,1,2]\n",
        "\n",
        "2. Leia a lista de alunas: ['Maria', 'Ana','Camila','Mariana','Elaine','Patricia','Marina','Erica','Larissa','Luiza', 'Nicole','Bruna']\n",
        "\n",
        "3. Crie uma função que atribua cada uma das alunas em uma das equipes da lista equipes_bootcamp_dados, de modo que cada equipe pode ter 3 alunas no máximo.\n",
        "\n",
        " Para isso ordene em alfabética. O seu resultado deve ser um dicionário python. exemplo {'BerthaLutz': ['Ana', 'Bruna', 'Camila'], 'GraceHopper': ['Elaine','Erika','Luiza'],... }\n"
      ]
    },
    {
      "cell_type": "code",
      "execution_count": null,
      "metadata": {
        "id": "Zk6U7KnL8WBd"
      },
      "outputs": [],
      "source": [
        "##### ESCREVER A FUNCAO DA ETAPA 1\n",
        "\n",
        "equipes_bootcamp_dados = ['BerthaLutz', 'GraceHopper', 'JaquelineGoes', 'SarahGilbert']\n",
        "alunas = ['Maria','Ana','Camila','Mariana','Elaine','Patricia','Marina','Erica','Larissa','Luiza', 'Nicole','Bruna']\n",
        "\n",
        "def contador(list):\n",
        "    n_as = []\n",
        "    for nome in list:\n",
        "        count = 0\n",
        "        for letra in nome:\n",
        "            if (letra == 'a'):\n",
        "                count +=1\n",
        "        n_as.append(count)\n",
        "\n",
        "    return n_as\n"
      ]
    },
    {
      "cell_type": "code",
      "execution_count": null,
      "metadata": {
        "id": "snTgwxt_8hcj",
        "colab": {
          "base_uri": "https://localhost:8080/"
        },
        "outputId": "4ea4ebac-16bf-414d-b9f8-61660d2b0542"
      },
      "outputs": [
        {
          "output_type": "stream",
          "name": "stdout",
          "text": [
            "O número de letra em cada elemento da lista é: [1, 1, 1, 2]\n"
          ]
        }
      ],
      "source": [
        "###### RODAR A ETAPA 1\n",
        "\n",
        "n_as = contador(equipes_bootcamp_dados)\n",
        "print(\"O número de letra em cada elemento da lista é:\", n_as)"
      ]
    },
    {
      "cell_type": "code",
      "execution_count": null,
      "metadata": {
        "id": "xgkMVykO8jB-",
        "colab": {
          "base_uri": "https://localhost:8080/"
        },
        "outputId": "044b524e-4332-4a45-bf14-f22e9b81ce95"
      },
      "outputs": [
        {
          "output_type": "stream",
          "name": "stdout",
          "text": [
            "Alunas: ['Maria', 'Ana', 'Camila', 'Mariana', 'Elaine', 'Patricia', 'Marina', 'Erica', 'Larissa', 'Luiza', 'Nicole', 'Bruna']\n"
          ]
        }
      ],
      "source": [
        "##### LER A ETAPA 2\n",
        "\n",
        "print('Alunas:', alunas)\n",
        "\n"
      ]
    },
    {
      "cell_type": "code",
      "execution_count": null,
      "metadata": {
        "id": "_ySYFooB8jFF"
      },
      "outputs": [],
      "source": [
        "##### ESCREVER A FUNCAO DA ETAPA 3\n",
        "\n",
        "def ordenacao(equipes, alunas):\n",
        "  alunas.sort()\n",
        "  eqs = {}\n",
        "  aux = 0\n",
        "  for equipe in equipes:\n",
        "    eqs [equipe] = [alunas[x] for x in range(aux, aux+3)]\n",
        "    aux += 3\n",
        "\n",
        "  return eqs"
      ]
    },
    {
      "cell_type": "code",
      "execution_count": null,
      "metadata": {
        "id": "8qZnUInj9Uvr",
        "colab": {
          "base_uri": "https://localhost:8080/"
        },
        "outputId": "0976817e-6241-4593-b315-6b6d2280a34b"
      },
      "outputs": [
        {
          "output_type": "stream",
          "name": "stdout",
          "text": [
            "As equipes são:  {'BerthaLutz': ['Ana', 'Bruna', 'Camila'], 'GraceHopper': ['Elaine', 'Erica', 'Larissa'], 'JaquelineGoes': ['Luiza', 'Maria', 'Mariana'], 'SarahGilbert': ['Marina', 'Nicole', 'Patricia']}\n"
          ]
        }
      ],
      "source": [
        "##### RODAR A FUNCAO DA ETAPA 3\n",
        "\n",
        "eqs = ordenacao(equipes_bootcamp_dados, alunas)\n",
        "print('As equipes são: ', eqs)\n",
        "\n"
      ]
    },
    {
      "cell_type": "markdown",
      "metadata": {
        "id": "AXoFPjyx82gG"
      },
      "source": [
        "### Desafio 6\n",
        "Escreva uma função em python que leia uma temperatura em graus Celsius e retorne a conversao dela em graus Fahrenheit.\n",
        "\n",
        "A fórmula de conversão é F = (9 * C + 160) / 5, na qual F é a temperatura em Fahrenheit e C é a temperatura em graus Celsius\n",
        "\n",
        "\n"
      ]
    },
    {
      "cell_type": "code",
      "execution_count": null,
      "metadata": {
        "colab": {
          "base_uri": "https://localhost:8080/"
        },
        "id": "OsCU2Msu9D9o",
        "outputId": "a2bb629e-1cd5-4e3b-e862-92d2be7475c8"
      },
      "outputs": [
        {
          "name": "stdout",
          "output_type": "stream",
          "text": [
            "Digite a temperatura em Celsius: 12\n"
          ]
        }
      ],
      "source": [
        "##### Entrar com a temperatura\n",
        "C = (float(input(\"Digite a temperatura em Celsius: \")))\n",
        "\n",
        "  ### DEFINIR FUNÇÃO\n",
        "\n",
        "def conversor_temperatura(C):\n",
        "  return (9*C + 160)/5\n",
        "F = conversor_temperatura(C)"
      ]
    },
    {
      "cell_type": "code",
      "execution_count": null,
      "metadata": {
        "colab": {
          "base_uri": "https://localhost:8080/"
        },
        "id": "UBCdsBgi9Xa2",
        "outputId": "e4e7122b-aa94-48ed-9754-b5934632c14b"
      },
      "outputs": [
        {
          "name": "stdout",
          "output_type": "stream",
          "text": [
            "12.0 Celsius equivale a  53.6 Fahrenheit\n"
          ]
        }
      ],
      "source": [
        "##### RODAR A FUNCAO\n",
        "print(C, \"Celsius equivale a \", F, \"Fahrenheit\")"
      ]
    },
    {
      "cell_type": "code",
      "source": [
        "####outra opção mais 'clean'\n",
        "\n",
        "c = (float(input(\"Digite a temperatura em Celsius: \")))\n",
        "f = (9*c + 160)/5\n",
        "\n",
        "print(c, \"Celsius equivale a \", f, \"Fahrenheit\")"
      ],
      "metadata": {
        "colab": {
          "base_uri": "https://localhost:8080/"
        },
        "id": "rEIrG1VWxej7",
        "outputId": "8cf931a2-30ee-4ce5-d512-ef6bae8fb903"
      },
      "execution_count": null,
      "outputs": [
        {
          "output_type": "stream",
          "name": "stdout",
          "text": [
            "Digite a temperatura em Celsius: 5\n",
            "5.0 Celsius equivale a  41.0 Fahrenheit\n"
          ]
        }
      ]
    }
  ],
  "metadata": {
    "colab": {
      "provenance": [],
      "collapsed_sections": [
        "RCrTUh1E7OWn"
      ],
      "include_colab_link": true
    },
    "kernelspec": {
      "display_name": "Python 3",
      "name": "python3"
    },
    "language_info": {
      "name": "python"
    }
  },
  "nbformat": 4,
  "nbformat_minor": 0
}