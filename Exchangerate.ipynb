{
  "nbformat": 4,
  "nbformat_minor": 0,
  "metadata": {
    "colab": {
      "provenance": [],
      "authorship_tag": "ABX9TyPKhf59HTjttfj6hDMSop6g",
      "include_colab_link": true
    },
    "kernelspec": {
      "name": "python3",
      "display_name": "Python 3"
    },
    "language_info": {
      "name": "python"
    }
  },
  "cells": [
    {
      "cell_type": "markdown",
      "metadata": {
        "id": "view-in-github",
        "colab_type": "text"
      },
      "source": [
        "<a href=\"https://colab.research.google.com/github/feer-rodriguess90/feer-rodriguess90/blob/main/Exchangerate.ipynb\" target=\"_parent\"><img src=\"https://colab.research.google.com/assets/colab-badge.svg\" alt=\"Open In Colab\"/></a>"
      ]
    },
    {
      "cell_type": "code",
      "execution_count": 41,
      "metadata": {
        "id": "HboPchI02KRj",
        "colab": {
          "base_uri": "https://localhost:8080/"
        },
        "outputId": "3f04eedb-2846-404d-8c04-f609a45dd2fc"
      },
      "outputs": [
        {
          "output_type": "stream",
          "name": "stdout",
          "text": [
            "Cotação dolar  4.8188\n",
            "Cotação euro:  5.2714\n",
            "Cotação dolar australiano:  3.3131\n",
            "Cotação dólar canadense:  3.6506\n",
            "Cotação peso argentino:  0.0193\n",
            "Cotação real peso argentino:  51.6638\n",
            "Cotação libra esterlina:  6.1805\n",
            "Cotação iene japonês:  0.03397\n",
            "Cotação EURO USD:  1.0943\n",
            "Cotação USD CAD:  1.3197\n",
            "Cotação ARG USD:  0.00401\n",
            "Cotação USD ARG:  249.2181\n",
            "Cotação franco suíço:  5.39\n",
            "Cotação guarani paraguaio:  1475.35\n",
            "Cotação peso uruguaio:  7.81\n",
            "Cotação btc:  128627\n"
          ]
        }
      ],
      "source": [
        "import requests\n",
        "import pandas as pd\n",
        "from datetime import datetime\n",
        "\n",
        "requisicao = requests.get(\"https://economia.awesomeapi.com.br/last/USD-BRL,EUR-BRL,AUD-BRL,BTC-BRL,CAD-BRL,BRL-PYG,BRL-UYU,ARS-BRL,BRL-ARS,GBP-BRL,JPY-BRL,EUR-USD,USD-CAD,ARS-USD,USD-ARS,CHF-BRL,BRL-PYG,BRL-UYU\")\n",
        "requisicao_dic = requisicao.json()\n",
        "\n",
        "cotacao_dolar = requisicao_dic[\"USDBRL\"][\"bid\"]\n",
        "cotacao_euro = requisicao_dic[\"EURBRL\"][\"bid\"]\n",
        "cotacao_dolaraus = requisicao_dic[\"AUDBRL\"][\"bid\"]\n",
        "cotacao_dolac = requisicao_dic[\"CADBRL\"][\"bid\"]\n",
        "cotacao_arg = requisicao_dic[\"ARSBRL\"][\"bid\"]\n",
        "cotacao_brlarg = requisicao_dic[\"BRLARS\"][\"bid\"]\n",
        "cotacao_libest =  requisicao_dic[\"GBPBRL\"][\"bid\"]\n",
        "cotacao_iene =  requisicao_dic[\"JPYBRL\"][\"bid\"]\n",
        "cotacao_eurousd = requisicao_dic[\"EURUSD\"][\"bid\"]\n",
        "cotacao_usdcad = requisicao_dic[\"USDCAD\"][\"bid\"]\n",
        "cotacao_arsusd = requisicao_dic[\"ARSUSD\"][\"bid\"]\n",
        "cotacao_usdars = requisicao_dic[\"USDARS\"][\"bid\"]\n",
        "cotacao_franco = requisicao_dic[\"CHFBRL\"][\"bid\"]\n",
        "cotacao_guarpar = requisicao_dic[\"BRLPYG\"][\"bid\"]\n",
        "cotacao_pesour = requisicao_dic[\"BRLUYU\"][\"bid\"]\n",
        "cotacao_btc = requisicao_dic[\"BTCBRL\"][\"bid\"]\n",
        "\n",
        "\n",
        "print(\"Cotação dolar \", cotacao_dolar)\n",
        "print(\"Cotação euro: \", cotacao_euro)\n",
        "print(\"Cotação dolar australiano: \", cotacao_dolaraus)\n",
        "print(\"Cotação dólar canadense: \", cotacao_dolac)\n",
        "print(\"Cotação peso argentino: \", cotacao_arg)\n",
        "print(\"Cotação real peso argentino: \", cotacao_brlarg)\n",
        "print(\"Cotação libra esterlina: \", cotacao_libest)\n",
        "print(\"Cotação iene japonês: \", cotacao_iene)\n",
        "print(\"Cotação EURO USD: \", cotacao_eurousd)\n",
        "print(\"Cotação USD CAD: \", cotacao_usdcad)\n",
        "print(\"Cotação ARG USD: \", cotacao_arsusd)\n",
        "print(\"Cotação USD ARG: \", cotacao_usdars)\n",
        "print(\"Cotação franco suíço: \", cotacao_franco)\n",
        "print(\"Cotação guarani paraguaio: \", cotacao_guarpar)\n",
        "print(\"Cotação peso uruguaio: \", cotacao_pesour)\n",
        "print(\"Cotação btc: \", cotacao_btc)\n"
      ]
    }
  ]
}