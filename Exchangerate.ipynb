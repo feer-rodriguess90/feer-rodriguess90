{
  "nbformat": 4,
  "nbformat_minor": 0,
  "metadata": {
    "colab": {
      "provenance": [],
      "authorship_tag": "ABX9TyPtv5jGe9jbCxUyGY6j3GWG",
      "include_colab_link": true
    },
    "kernelspec": {
      "name": "python3",
      "display_name": "Python 3"
    },
    "language_info": {
      "name": "python"
    }
  },
  "cells": [
    {
      "cell_type": "markdown",
      "metadata": {
        "id": "view-in-github",
        "colab_type": "text"
      },
      "source": [
        "<a href=\"https://colab.research.google.com/github/feer-rodriguess90/feer-rodriguess90/blob/main/Exchangerate.ipynb\" target=\"_parent\"><img src=\"https://colab.research.google.com/assets/colab-badge.svg\" alt=\"Open In Colab\"/></a>"
      ]
    },
    {
      "cell_type": "code",
      "execution_count": 32,
      "metadata": {
        "id": "HboPchI02KRj",
        "colab": {
          "base_uri": "https://localhost:8080/",
          "height": 237
        },
        "outputId": "2125902b-9444-4049-faaf-4824e20ec716"
      },
      "outputs": [
        {
          "output_type": "error",
          "ename": "KeyError",
          "evalue": "ignored",
          "traceback": [
            "\u001b[0;31m---------------------------------------------------------------------------\u001b[0m",
            "\u001b[0;31mKeyError\u001b[0m                                  Traceback (most recent call last)",
            "\u001b[0;32m<ipython-input-32-b6541667a948>\u001b[0m in \u001b[0;36m<cell line: 8>\u001b[0;34m()\u001b[0m\n\u001b[1;32m      6\u001b[0m \u001b[0mrequisicao_dic\u001b[0m \u001b[0;34m=\u001b[0m \u001b[0mrequisicao\u001b[0m\u001b[0;34m.\u001b[0m\u001b[0mjson\u001b[0m\u001b[0;34m(\u001b[0m\u001b[0;34m)\u001b[0m\u001b[0;34m\u001b[0m\u001b[0;34m\u001b[0m\u001b[0m\n\u001b[1;32m      7\u001b[0m \u001b[0;34m\u001b[0m\u001b[0m\n\u001b[0;32m----> 8\u001b[0;31m \u001b[0mcotacao_dolar\u001b[0m \u001b[0;34m=\u001b[0m \u001b[0mrequisicao_dic\u001b[0m\u001b[0;34m[\u001b[0m\u001b[0;34m\"USDBRL\"\u001b[0m\u001b[0;34m]\u001b[0m\u001b[0;34m[\u001b[0m\u001b[0;34m\"bid\"\u001b[0m\u001b[0;34m]\u001b[0m\u001b[0;34m\u001b[0m\u001b[0;34m\u001b[0m\u001b[0m\n\u001b[0m\u001b[1;32m      9\u001b[0m \u001b[0mcotacao_euro\u001b[0m \u001b[0;34m=\u001b[0m \u001b[0mrequisicao_dic\u001b[0m\u001b[0;34m[\u001b[0m\u001b[0;34m\"EURBRL\"\u001b[0m\u001b[0;34m]\u001b[0m\u001b[0;34m[\u001b[0m\u001b[0;34m\"bid\"\u001b[0m\u001b[0;34m]\u001b[0m\u001b[0;34m\u001b[0m\u001b[0;34m\u001b[0m\u001b[0m\n\u001b[1;32m     10\u001b[0m \u001b[0mcotacao_dolac\u001b[0m \u001b[0;34m=\u001b[0m \u001b[0mrequisicao_dic\u001b[0m\u001b[0;34m[\u001b[0m\u001b[0;34m\"CADBRL\"\u001b[0m\u001b[0;34m]\u001b[0m\u001b[0;34m[\u001b[0m\u001b[0;34m\"bid\"\u001b[0m\u001b[0;34m]\u001b[0m\u001b[0;34m\u001b[0m\u001b[0;34m\u001b[0m\u001b[0m\n",
            "\u001b[0;31mKeyError\u001b[0m: 'USDBRL'"
          ]
        }
      ],
      "source": [
        "import requests\n",
        "import pandas as pd\n",
        "from datetime import datetime\n",
        "\n",
        "requisicao = requests.get(\"https://economia.awesomeapi.com.br/last/USD-BRL,EUR-BRL,BTC-BRL,CAD-BRL,BRL-PYG, BRL-UYU,ARS-BRL,BRL-ARS,GBP-BRL,JPY-BRL,EUR-USD,USD-CAD,ARS-USD,USD-ARS,CHF-BRL\")\n",
        "requisicao_dic = requisicao.json()\n",
        "\n",
        "cotacao_dolar = requisicao_dic[\"USDBRL\"][\"bid\"]\n",
        "cotacao_euro = requisicao_dic[\"EURBRL\"][\"bid\"]\n",
        "cotacao_dolac = requisicao_dic[\"CADBRL\"][\"bid\"]\n",
        "cotacao_arg = requisicao_dic[\"ARSBRL\"][\"bid\"]\n",
        "cotacao_brlarg = requisicao_dic[\"BRLARS\"][\"bid\"]\n",
        "cotacao_libest =  requisicao_dic[\"GBPBRL\"][\"bid\"]\n",
        "cotacao_iene =  requisicao_dic[\"JPYBRL\"][\"bid\"]\n",
        "cotacao_eurousd = requisicao_dic[\"EURUSD\"][\"bid\"]\n",
        "cotacao_usdcad = requisicao_dic[\"USDCAD\"][\"bid\"]\n",
        "cotacao_arsusd = requisicao_dic[\"ARSUSD\"][\"bid\"]\n",
        "cotacao_usdars = requisicao_dic[\"USDARS\"][\"bid\"]\n",
        "cotacao_franco = requisicao_dic[\"CHFBRL\"][\"bid\"]\n",
        "cotacao_btc = requisicao_dic[\"BTCBRL\"][\"bid\"]\n",
        "\n",
        "\n",
        "print(\"Cotação dólar: \", cotacao_dolar)\n",
        "print(\"Cotação euro: \", cotacao_euro)\n",
        "print(\"Cotação peso argentino: \", cotacao_arg)\n",
        "print(\"Cotação real peso argentino: \", cotacao_brlarg)\n",
        "print(\"Cotação dólar canadense: \", cotacao_dolac)\n",
        "print(\"Cotação libra esterlina: \", cotacao_libest)\n",
        "print(\"Cotação iene japonês: \", cotacao_iene)\n",
        "print(\"Cotação EURO USD: \", cotacao_eurousd)\n",
        "print(\"Cotação USD CAD: \", cotacao_usdcad)\n",
        "print(\"Cotação ARG USD: \", cotacao_arsusd)\n",
        "print(\"Cotação USD ARG: \", cotacao_usdars)\n",
        "print(\"Cotação franco suíço: \", cotacao_franco)\n",
        "print(\"Cotação btc: \", cotacao_btc)\n"
      ]
    }
  ]
}