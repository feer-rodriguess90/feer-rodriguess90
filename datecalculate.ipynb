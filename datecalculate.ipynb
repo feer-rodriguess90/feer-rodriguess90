{
  "nbformat": 4,
  "nbformat_minor": 0,
  "metadata": {
    "colab": {
      "provenance": [],
      "authorship_tag": "ABX9TyO+KiSba8+6DB1D0RXpDale",
      "include_colab_link": true
    },
    "kernelspec": {
      "name": "python3",
      "display_name": "Python 3"
    },
    "language_info": {
      "name": "python"
    }
  },
  "cells": [
    {
      "cell_type": "markdown",
      "metadata": {
        "id": "view-in-github",
        "colab_type": "text"
      },
      "source": [
        "<a href=\"https://colab.research.google.com/github/feer-rodriguess90/feer-rodriguess90/blob/main/datecalculate.ipynb\" target=\"_parent\"><img src=\"https://colab.research.google.com/assets/colab-badge.svg\" alt=\"Open In Colab\"/></a>"
      ]
    },
    {
      "cell_type": "code",
      "execution_count": null,
      "metadata": {
        "colab": {
          "base_uri": "https://localhost:8080/"
        },
        "id": "9NlPToOLbcm8",
        "outputId": "1f2a9be8-c532-4504-ba7b-df628b26ce7e"
      },
      "outputs": [
        {
          "output_type": "stream",
          "name": "stdout",
          "text": [
            "100 days\n"
          ]
        }
      ],
      "source": [
        "from datetime import date\n",
        "\n",
        "def numOfDays(date1, date2):\n",
        "    return (date2-date1).days\n",
        "\n",
        "date1 = date(2023, 6, 17)\n",
        "date2 = date(2023, 9, 25)\n",
        "print(numOfDays(date1, date2), \"days\")"
      ]
    },
    {
      "cell_type": "code",
      "source": [
        "from datetime import datetime, timedelta\n",
        "import pytz\n",
        "\n",
        "format = '%Y-%m-%d %H:%M:%S'\n",
        "tz = pytz.timezone('America/Sao_Paulo')\n",
        "ctime = datetime.now(tz=tz)\n",
        "print(f'Current time is {ctime.strftime(format)}')\n",
        "delta = timedelta(days=100, hours=2, minutes=30)\n",
        "result = ctime + delta\n",
        "print(f'New time is {result.strftime(format)}')"
      ],
      "metadata": {
        "colab": {
          "base_uri": "https://localhost:8080/"
        },
        "id": "ep3t7dQAgLeK",
        "outputId": "da77f7a8-eb52-450b-908b-beae52b7de71"
      },
      "execution_count": null,
      "outputs": [
        {
          "output_type": "stream",
          "name": "stdout",
          "text": [
            "Current time is 2023-06-17 15:52:02\n",
            "New time is 2023-09-25 18:22:02\n"
          ]
        }
      ]
    },
    {
      "cell_type": "code",
      "source": [
        "from datetime import datetime, timedelta\n",
        "import pytz\n",
        "\n",
        "format = '%Y-%m-%d %H:%M:%S'\n",
        "tz = pytz.timezone('America/Sao_Paulo')\n",
        "ctime = datetime.now(tz=tz)\n",
        "\n",
        "d1 = datetime.strptime('2023-06-17 15:16:30', format)\n",
        "d2 = datetime.strptime('2023-09-25 15:16:30', format)\n",
        "print(f'The time duration is {d2 - d1}')"
      ],
      "metadata": {
        "colab": {
          "base_uri": "https://localhost:8080/"
        },
        "id": "rsiXwUsAqG6A",
        "outputId": "93783f1d-b2b2-46cf-e382-80a768628150"
      },
      "execution_count": null,
      "outputs": [
        {
          "output_type": "stream",
          "name": "stdout",
          "text": [
            "The time duration is 100 days, 0:00:00\n"
          ]
        }
      ]
    },
    {
      "cell_type": "code",
      "source": [
        "import pytz\n",
        "\n",
        "for tz in pytz.all_timezones:\n",
        "    print(tz)"
      ],
      "metadata": {
        "id": "wCGvsWo2vYBr"
      },
      "execution_count": null,
      "outputs": []
    },
    {
      "cell_type": "code",
      "source": [
        "days = int(input(\"Please enter days: \"))\n",
        "hours = days * 24\n",
        "minutes = days * 1440\n",
        "seconds = days * 86400\n",
        "print(hours, \"Hours\", minutes, \"Minutes\", seconds, \"Seconds\")"
      ],
      "metadata": {
        "colab": {
          "base_uri": "https://localhost:8080/"
        },
        "id": "WCHtd4LYwYMd",
        "outputId": "817b98e3-6caf-45f1-a394-d8e57e7ecb23"
      },
      "execution_count": null,
      "outputs": [
        {
          "output_type": "stream",
          "name": "stdout",
          "text": [
            "Please enter days: 7\n",
            "168 Hours 10080 Minutes 604800 Seconds\n"
          ]
        }
      ]
    }
  ]
}