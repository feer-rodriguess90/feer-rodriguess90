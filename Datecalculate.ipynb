{
  "nbformat": 4,
  "nbformat_minor": 0,
  "metadata": {
    "colab": {
      "provenance": [],
      "authorship_tag": "ABX9TyPAGfBpALaiQAml8ui3ZBDQ",
      "include_colab_link": true
    },
    "kernelspec": {
      "name": "python3",
      "display_name": "Python 3"
    },
    "language_info": {
      "name": "python"
    }
  },
  "cells": [
    {
      "cell_type": "markdown",
      "metadata": {
        "id": "view-in-github",
        "colab_type": "text"
      },
      "source": [
        "<a href=\"https://colab.research.google.com/github/feer-rodriguess90/feer-rodriguess90/blob/main/Datecalculate.ipynb\" target=\"_parent\"><img src=\"https://colab.research.google.com/assets/colab-badge.svg\" alt=\"Open In Colab\"/></a>"
      ]
    },
    {
      "cell_type": "code",
      "execution_count": null,
      "metadata": {
        "colab": {
          "base_uri": "https://localhost:8080/"
        },
        "id": "9NlPToOLbcm8",
        "outputId": "87c758ca-1d70-4777-fa7f-33ce048cdf9c"
      },
      "outputs": [
        {
          "output_type": "stream",
          "name": "stdout",
          "text": [
            "100 days\n"
          ]
        }
      ],
      "source": [
        "from datetime import date\n",
        "\n",
        "def numOfDays(date1, date2):\n",
        "    return (date2-date1).days\n",
        "\n",
        "date1 = date(2023, 6, 17)\n",
        "date2 = date(2023, 9, 25)\n",
        "print(numOfDays(date1, date2), \"days\")"
      ]
    },
    {
      "cell_type": "code",
      "source": [
        "from datetime import datetime, timedelta\n",
        "\n",
        "format = '%Y-%m-%d %H:%M:%S'\n",
        "ctime = datetime.now()\n",
        "print(f'Current time is {ctime.strftime(format)}')\n",
        "delta = timedelta(days=100, hours=2, minutes=30)\n",
        "result = ctime + delta\n",
        "print(f'New time is {result.strftime(format)}')"
      ],
      "metadata": {
        "colab": {
          "base_uri": "https://localhost:8080/"
        },
        "id": "ep3t7dQAgLeK",
        "outputId": "b6b945b4-f161-44a9-de46-a49a8fab66cd"
      },
      "execution_count": 10,
      "outputs": [
        {
          "output_type": "stream",
          "name": "stdout",
          "text": [
            "Current time is 2023-06-17 18:06:57\n",
            "New time is 2023-09-25 20:36:57\n"
          ]
        }
      ]
    }
  ]
}